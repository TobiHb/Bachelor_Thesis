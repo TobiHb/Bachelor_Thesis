{
 "cells": [
  {
   "cell_type": "markdown",
   "id": "8094446b-3691-4cd5-a12f-609e426719c0",
   "metadata": {},
   "source": [
    "# 00_FiNER139-TagMerging\n",
    "### Purpose: Mergin the original 139 different Labels into 10\n",
    "<hr style=\"height:3px; width:100%; background-color:black; border:none; margin:auto;\" />"
   ]
  },
  {
   "cell_type": "markdown",
   "id": "be2e4d23-2a35-4433-b74c-076d4bd0e8ff",
   "metadata": {},
   "source": [
    "## 1. Import the FiNER-139 datset form Hugging Face "
   ]
  },
  {
   "cell_type": "code",
   "execution_count": 1,
   "id": "f39b8f47-a848-4712-b3ab-6ad0ae7bfef6",
   "metadata": {},
   "outputs": [
    {
     "data": {
      "text/plain": [
       "DatasetDict({\n",
       "    train: Dataset({\n",
       "        features: ['id', 'tokens', 'ner_tags'],\n",
       "        num_rows: 900384\n",
       "    })\n",
       "    validation: Dataset({\n",
       "        features: ['id', 'tokens', 'ner_tags'],\n",
       "        num_rows: 112494\n",
       "    })\n",
       "    test: Dataset({\n",
       "        features: ['id', 'tokens', 'ner_tags'],\n",
       "        num_rows: 108378\n",
       "    })\n",
       "})"
      ]
     },
     "execution_count": 1,
     "metadata": {},
     "output_type": "execute_result"
    }
   ],
   "source": [
    "from datasets import load_dataset\n",
    "import pandas as pd\n",
    "\n",
    "# Load the dataset from Hugging Face\n",
    "dataset = load_dataset(\"nlpaueb/finer-139\")\n",
    "\n",
    "dataset\n",
    "#dataset[\"train\"][1]\n",
    "label_names = dataset[\"train\"].features[\"ner_tags\"].feature.names\n",
    "len(label_names)\n",
    "dataset"
   ]
  },
  {
   "cell_type": "markdown",
   "id": "db071c5a-fb6d-42b5-99b5-ecb2c421542a",
   "metadata": {},
   "source": [
    "<hr style=\"height:3px; width:100%; background-color:black; border:none; margin:auto;\" />"
   ]
  },
  {
   "cell_type": "markdown",
   "id": "c71e65f7-a9ca-4ac9-9d9d-db1de2526f83",
   "metadata": {},
   "source": [
    "## 2. Change number labels into text labels and print dataset structure (Dataset Dictionary with three elements)"
   ]
  },
  {
   "cell_type": "code",
   "execution_count": 2,
   "id": "1d4d4ed6-5ac3-4aac-84d9-85e87ef9f873",
   "metadata": {},
   "outputs": [
    {
     "data": {
      "text/plain": [
       "{'train': Dataset({\n",
       "     features: ['id', 'tokens', 'ner_tags', 'ner_tags_str'],\n",
       "     num_rows: 900384\n",
       " }),\n",
       " 'validation': Dataset({\n",
       "     features: ['id', 'tokens', 'ner_tags', 'ner_tags_str'],\n",
       "     num_rows: 112494\n",
       " }),\n",
       " 'test': Dataset({\n",
       "     features: ['id', 'tokens', 'ner_tags', 'ner_tags_str'],\n",
       "     num_rows: 108378\n",
       " })}"
      ]
     },
     "execution_count": 2,
     "metadata": {},
     "output_type": "execute_result"
    }
   ],
   "source": [
    "# Function to convert numerical labels to names\n",
    "def decode_ner_tags(example):\n",
    "    example[\"ner_tags_str\"] = [label_names[i] for i in example[\"ner_tags\"]]\n",
    "    return example\n",
    "\n",
    "\n",
    "dataset_dict_named = {\n",
    "    split: ds.map(decode_ner_tags)\n",
    "    for split, ds in dataset.items()\n",
    "}\n",
    "\n",
    "dataset_dict_named"
   ]
  },
  {
   "cell_type": "markdown",
   "id": "f2956c84-b780-482c-851f-99833438b971",
   "metadata": {},
   "source": [
    "<hr style=\"height:3px; width:100%; background-color:black; border:none; margin:auto;\" />"
   ]
  },
  {
   "cell_type": "markdown",
   "id": "ce333448-bdd1-4bb5-a79d-5b11265b41e3",
   "metadata": {},
   "source": [
    "## 3. Print one element of the Datset Dict and count length of shortes and longest row across all three splits"
   ]
  },
  {
   "cell_type": "code",
   "execution_count": 3,
   "id": "df60e6e2-1bb8-43ea-b157-7f465911fa6f",
   "metadata": {},
   "outputs": [
    {
     "name": "stdout",
     "output_type": "stream",
     "text": [
      "{'id': 1, 'tokens': ['See', 'accompanying', 'notes', 'to', 'condensed', 'consolidated', 'financial', 'statements', '.', '3', 'Lennar', 'Corporation', 'and', 'Subsidiaries', 'Condensed', 'Consolidated', 'Statements', 'of', 'Operations', 'and', 'Comprehensive', 'Income', '(', 'Dollars', 'in', 'thousands', ',', 'except', 'per', 'share', 'amounts', ')', '(', 'unaudited', ')', 'See', 'accompanying', 'notes', 'to', 'condensed', 'consolidated', 'financial', 'statements', '.', '4', 'Lennar', 'Corporation', 'and', 'Subsidiaries', 'Condensed', 'Consolidated', 'Statements', 'of', 'Cash', 'Flows', '(', 'In', 'thousands', ')', '(', 'unaudited', ')', 'See', 'accompanying', 'notes', 'to', 'condensed', 'consolidated', 'financial', 'statements', '.', '5', 'Lennar', 'Corporation', 'and', 'Subsidiaries', 'Condensed', 'Consolidated', 'Statements', 'of', 'Cash', 'Flows', '(', 'In', 'thousands', ')', '(', 'unaudited', ')', 'See', 'accompanying', 'notes', 'to', 'condensed', 'consolidated', 'financial', 'statements', '.', '6', 'Lennar', 'Corporation', 'and', 'Subsidiaries', 'Notes', 'to', 'Condensed', 'Consolidated', 'Financial', 'Statements', '(', 'unaudited', ')', '(', '1', ')', 'Basis', 'of', 'Presentation', 'Basis', 'of', 'Consolidation', 'The', 'accompanying', 'condensed', 'consolidated', 'financial', 'statements', 'include', 'the', 'accounts', 'of', 'Lennar', 'Corporation', 'and', 'all', 'subsidiaries', ',', 'partnerships', 'and', 'other', 'entities', 'in', 'which', 'Lennar', 'Corporation', 'has', 'a', 'controlling', 'interest', 'and', 'VIEs', '(', 'see', 'Note', '15', ')', 'in', 'which', 'Lennar', 'Corporation', 'is', 'deemed', 'to', 'be', 'the', 'primary', 'beneficiary', '(', 'the', '“', 'Company', '”', ')', '.'], 'ner_tags': [0, 0, 0, 0, 0, 0, 0, 0, 0, 0, 0, 0, 0, 0, 0, 0, 0, 0, 0, 0, 0, 0, 0, 0, 0, 0, 0, 0, 0, 0, 0, 0, 0, 0, 0, 0, 0, 0, 0, 0, 0, 0, 0, 0, 0, 0, 0, 0, 0, 0, 0, 0, 0, 0, 0, 0, 0, 0, 0, 0, 0, 0, 0, 0, 0, 0, 0, 0, 0, 0, 0, 0, 0, 0, 0, 0, 0, 0, 0, 0, 0, 0, 0, 0, 0, 0, 0, 0, 0, 0, 0, 0, 0, 0, 0, 0, 0, 0, 0, 0, 0, 0, 0, 0, 0, 0, 0, 0, 0, 0, 0, 0, 0, 0, 0, 0, 0, 0, 0, 0, 0, 0, 0, 0, 0, 0, 0, 0, 0, 0, 0, 0, 0, 0, 0, 0, 0, 0, 0, 0, 0, 0, 0, 0, 0, 0, 0, 0, 0, 0, 0, 0, 0, 0, 0, 0, 0, 0, 0, 0, 0, 0, 0, 0, 0, 0, 0, 0, 0, 0, 0, 0, 0, 0], 'ner_tags_str': ['O', 'O', 'O', 'O', 'O', 'O', 'O', 'O', 'O', 'O', 'O', 'O', 'O', 'O', 'O', 'O', 'O', 'O', 'O', 'O', 'O', 'O', 'O', 'O', 'O', 'O', 'O', 'O', 'O', 'O', 'O', 'O', 'O', 'O', 'O', 'O', 'O', 'O', 'O', 'O', 'O', 'O', 'O', 'O', 'O', 'O', 'O', 'O', 'O', 'O', 'O', 'O', 'O', 'O', 'O', 'O', 'O', 'O', 'O', 'O', 'O', 'O', 'O', 'O', 'O', 'O', 'O', 'O', 'O', 'O', 'O', 'O', 'O', 'O', 'O', 'O', 'O', 'O', 'O', 'O', 'O', 'O', 'O', 'O', 'O', 'O', 'O', 'O', 'O', 'O', 'O', 'O', 'O', 'O', 'O', 'O', 'O', 'O', 'O', 'O', 'O', 'O', 'O', 'O', 'O', 'O', 'O', 'O', 'O', 'O', 'O', 'O', 'O', 'O', 'O', 'O', 'O', 'O', 'O', 'O', 'O', 'O', 'O', 'O', 'O', 'O', 'O', 'O', 'O', 'O', 'O', 'O', 'O', 'O', 'O', 'O', 'O', 'O', 'O', 'O', 'O', 'O', 'O', 'O', 'O', 'O', 'O', 'O', 'O', 'O', 'O', 'O', 'O', 'O', 'O', 'O', 'O', 'O', 'O', 'O', 'O', 'O', 'O', 'O', 'O', 'O', 'O', 'O', 'O', 'O', 'O', 'O', 'O', 'O']}\n"
     ]
    }
   ],
   "source": [
    "# Example: Output of a sample with label names\n",
    "print(dataset_dict_named[\"train\"][1])"
   ]
  },
  {
   "cell_type": "code",
   "execution_count": 4,
   "id": "2a3705a8-793b-4f12-86ab-a75fabc77351",
   "metadata": {},
   "outputs": [
    {
     "name": "stdout",
     "output_type": "stream",
     "text": [
      "        split  min_length  min_index  max_length  max_index\n",
      "0       train           2      68225        1260      49802\n",
      "1  validation           2      12449        1157      32348\n",
      "2        test           2       7921        1193      69243\n"
     ]
    }
   ],
   "source": [
    "# Funktion zur Ermittlung der min/max Tokenlänge und deren Position im Split\n",
    "def get_min_max_lengths(split):\n",
    "    lengths = [len(example['tokens']) for example in dataset[split]]\n",
    "    \n",
    "    min_length = min(lengths)\n",
    "    max_length = max(lengths)\n",
    "    \n",
    "    min_index = lengths.index(min_length)\n",
    "    max_index = lengths.index(max_length)\n",
    "    \n",
    "    return {\n",
    "        \"split\": split,\n",
    "        \"min_length\": min_length,\n",
    "        \"min_index\": min_index,\n",
    "        \"max_length\": max_length,\n",
    "        \"max_index\": max_index\n",
    "    }\n",
    "\n",
    "# Ergebnisse für alle Splits sammeln\n",
    "results = [get_min_max_lengths(split) for split in dataset]\n",
    "\n",
    "# In DataFrame zur Übersicht\n",
    "import pandas as pd\n",
    "df_results = pd.DataFrame(results)\n",
    "print(df_results)\n"
   ]
  },
  {
   "cell_type": "markdown",
   "id": "5123c009-1b43-47a9-b9eb-9b4953975ad8",
   "metadata": {},
   "source": [
    "<hr style=\"height:3px; width:100%; background-color:black; border:none; margin:auto;\" />"
   ]
  },
  {
   "cell_type": "markdown",
   "id": "34088668-d93f-45ca-b296-39fe00a04dc2",
   "metadata": {},
   "source": [
    "## 4. Manual mapping form the 139 tags to 10 tags"
   ]
  },
  {
   "cell_type": "code",
   "execution_count": 5,
   "id": "a9030596-45f1-4104-8c0d-72a753a8f3fe",
   "metadata": {},
   "outputs": [],
   "source": [
    "mapping = {\n",
    "    \"AccrualForEnvironmentalLossContingencies\": \"Contingency\",\n",
    "    \"AcquiredFiniteLivedIntangibleAssetsWeightedAverageUsefulLife\": \"Assets\",\n",
    "    \"AllocatedShareBasedCompensationExpense\": \"Compensation\",\n",
    "    \"AmortizationOfFinancingCosts\": \"Debt\",\n",
    "    \"AmortizationOfIntangibleAssets\": \"Assets\",\n",
    "    \"AntidilutiveSecuritiesExcludedFromComputationOfEarningsPerShareAmount\": \"Equity\",\n",
    "    \"AreaOfRealEstateProperty\": \"Assets\",\n",
    "    \"AssetImpairmentCharges\": \"Assets\",\n",
    "    \"BusinessAcquisitionEquityInterestsIssuedOrIssuableNumberOfSharesIssued\": \"Acquisition\",\n",
    "    \"BusinessAcquisitionPercentageOfVotingInterestsAcquired\": \"Acquisition\",\n",
    "    \"BusinessCombinationAcquisitionRelatedCosts\": \"Acquisition\",\n",
    "    \"BusinessCombinationConsiderationTransferred1\": \"Acquisition\",\n",
    "    \"BusinessCombinationContingentConsiderationLiability\": \"Acquisition\",\n",
    "    \"BusinessCombinationRecognizedIdentifiableAssetsAcquiredAndLiabilitiesAssumedIntangibleAssetsOtherThanGoodwill\": \"Assets\",\n",
    "    \"BusinessCombinationRecognizedIdentifiableAssetsAcquiredAndLiabilitiesAssumedIntangibles\": \"Assets\",\n",
    "    \"CapitalizedContractCostAmortization\": \"Revenue\",\n",
    "    \"CashAndCashEquivalentsFairValueDisclosure\": \"Other\",\n",
    "    \"ClassOfWarrantOrRightExercisePriceOfWarrantsOrRights1\": \"Equity\",\n",
    "    \"CommonStockCapitalSharesReservedForFutureIssuance\": \"Equity\",\n",
    "    \"CommonStockDividendsPerShareDeclared\": \"Equity\",\n",
    "    \"CommonStockParOrStatedValuePerShare\": \"Equity\",\n",
    "    \"CommonStockSharesAuthorized\": \"Equity\",\n",
    "    \"CommonStockSharesOutstanding\": \"Equity\",\n",
    "    \"ConcentrationRiskPercentage1\": \"Contingency\",\n",
    "    \"ContractWithCustomerLiability\": \"Revenue\",\n",
    "    \"ContractWithCustomerLiabilityRevenueRecognized\": \"Revenue\",\n",
    "    \"CumulativeEffectOfNewAccountingPrincipleInPeriodOfAdoption\": \"Other\",\n",
    "    \"DebtInstrumentBasisSpreadOnVariableRate1\": \"Debt\",\n",
    "    \"DebtInstrumentCarryingAmount\": \"Debt\",\n",
    "    \"DebtInstrumentConvertibleConversionPrice1\": \"Debt\",\n",
    "    \"DebtInstrumentFaceAmount\": \"Debt\",\n",
    "    \"DebtInstrumentFairValue\": \"Debt\",\n",
    "    \"DebtInstrumentInterestRateEffectivePercentage\": \"Debt\",\n",
    "    \"DebtInstrumentInterestRateStatedPercentage\": \"Debt\",\n",
    "    \"DebtInstrumentMaturityDate\": \"Debt\",\n",
    "    \"DebtInstrumentRedemptionPricePercentage\": \"Debt\",\n",
    "    \"DebtInstrumentTerm\": \"Debt\",\n",
    "    \"DebtInstrumentUnamortizedDiscount\": \"Debt\",\n",
    "    \"DebtWeightedAverageInterestRate\": \"Debt\",\n",
    "    \"DeferredFinanceCostsGross\": \"Debt\",\n",
    "    \"DeferredFinanceCostsNet\": \"Debt\",\n",
    "    \"DefinedBenefitPlanContributionsByEmployer\": \"Compensation\",\n",
    "    \"DefinedContributionPlanCostRecognized\": \"Compensation\",\n",
    "    \"Depreciation\": \"Assets\",\n",
    "    \"DerivativeFixedInterestRate\": \"Debt\",\n",
    "    \"DerivativeNotionalAmount\": \"Debt\",\n",
    "    \"DisposalGroupIncludingDiscontinuedOperationConsideration\": \"Assets\",\n",
    "    \"EffectiveIncomeTaxRateContinuingOperations\": \"Tax\",\n",
    "    \"EffectiveIncomeTaxRateReconciliationAtFederalStatutoryIncomeTaxRate\": \"Tax\",\n",
    "    \"EmployeeServiceShareBasedCompensationNonvestedAwardsTotalCompensationCostNotYetRecognized\": \"Compensation\",\n",
    "    \"EmployeeServiceShareBasedCompensationNonvestedAwardsTotalCompensationCostNotYetRecognizedPeriodForRecognition1\": \"Compensation\",\n",
    "    \"EmployeeServiceShareBasedCompensationNonvestedAwardsTotalCompensationCostNotYetRecognizedShareBasedAwardsOtherThanOptions\": \"Compensation\",\n",
    "    \"EmployeeServiceShareBasedCompensationTaxBenefitFromCompensationExpense\": \"Compensation\",\n",
    "    \"EquityMethodInvestmentOwnershipPercentage\": \"Acquisition\",\n",
    "    \"EquityMethodInvestments\": \"Acquisition\",\n",
    "    \"FiniteLivedIntangibleAssetUsefulLife\": \"Assets\",\n",
    "    \"GainsLossesOnExtinguishmentOfDebt\": \"Debt\",\n",
    "    \"Goodwill\": \"Assets\",\n",
    "    \"GoodwillImpairmentLoss\": \"Assets\",\n",
    "    \"GuaranteeObligationsMaximumExposure\": \"Contingency\",\n",
    "    \"IncomeLossFromEquityMethodInvestments\": \"Acquisition\",\n",
    "    \"IncomeTaxExpenseBenefit\": \"Tax\",\n",
    "    \"InterestExpense\": \"Debt\",\n",
    "    \"InterestExpenseDebt\": \"Debt\",\n",
    "    \"LeaseAndRentalExpense\": \"Lease\",\n",
    "    \"LesseeOperatingLeaseRenewalTerm\": \"Lease\",\n",
    "    \"LesseeOperatingLeaseTermOfContract\": \"Lease\",\n",
    "    \"LettersOfCreditOutstandingAmount\": \"Debt\",\n",
    "    \"LineOfCredit\": \"Debt\",\n",
    "    \"LineOfCreditFacilityCommitmentFeePercentage\": \"Debt\",\n",
    "    \"LineOfCreditFacilityCurrentBorrowingCapacity\": \"Debt\",\n",
    "    \"LineOfCreditFacilityInterestRateAtPeriodEnd\": \"Debt\",\n",
    "    \"LineOfCreditFacilityMaximumBorrowingCapacity\": \"Debt\",\n",
    "    \"LineOfCreditFacilityRemainingBorrowingCapacity\": \"Debt\",\n",
    "    \"LineOfCreditFacilityUnusedCapacityCommitmentFeePercentage\": \"Debt\",\n",
    "    \"LongTermDebt\": \"Debt\",\n",
    "    \"LongTermDebtFairValue\": \"Debt\",\n",
    "    \"LossContingencyAccrualAtCarryingValue\": \"Contingency\",\n",
    "    \"LossContingencyDamagesSoughtValue\": \"Contingency\",\n",
    "    \"LossContingencyEstimateOfPossibleLoss\": \"Contingency\",\n",
    "    \"LossContingencyPendingClaimsNumber\": \"Contingency\",\n",
    "    \"MinorityInterestOwnershipPercentageByNoncontrollingOwners\": \"Other\",\n",
    "    \"MinorityInterestOwnershipPercentageByParent\": \"Other\",\n",
    "    \"NumberOfOperatingSegments\": \"Other\",\n",
    "    \"NumberOfRealEstateProperties\": \"Assets\",\n",
    "    \"NumberOfReportableSegments\": \"Other\",\n",
    "    \"OperatingLeaseCost\": \"Lease\",\n",
    "    \"OperatingLeaseExpense\": \"Lease\",\n",
    "    \"OperatingLeaseLiability\": \"Lease\",\n",
    "    \"OperatingLeasePayments\": \"Lease\",\n",
    "    \"OperatingLeaseRightOfUseAsset\": \"Lease\",\n",
    "    \"OperatingLeaseWeightedAverageDiscountRatePercent\": \"Lease\",\n",
    "    \"OperatingLeaseWeightedAverageRemainingLeaseTerm1\": \"Lease\",\n",
    "    \"OperatingLeasesRentExpenseNet\": \"Lease\",\n",
    "    \"OperatingLossCarryforwards\": \"Tax\",\n",
    "    \"PaymentsToAcquireBusinessesGross\": \"Acquisition\",\n",
    "    \"PaymentsToAcquireBusinessesNetOfCashAcquired\": \"Acquisition\",\n",
    "    \"PreferredStockDividendRatePercentage\": \"Equity\",\n",
    "    \"PreferredStockSharesAuthorized\": \"Equity\",\n",
    "    \"ProceedsFromIssuanceOfCommonStock\": \"Equity\",\n",
    "    \"PropertyPlantAndEquipmentUsefulLife\": \"Assets\",\n",
    "    \"PublicUtilitiesRequestedRateIncreaseDecreaseAmount\": \"Other\",\n",
    "    \"RelatedPartyTransactionAmountsOfTransaction\": \"Other\",\n",
    "    \"RelatedPartyTransactionExpensesFromTransactionsWithRelatedParty\": \"Other\",\n",
    "    \"RepaymentsOfDebt\": \"Debt\",\n",
    "    \"RestructuringAndRelatedCostExpectedCost1\": \"Contingency\",\n",
    "    \"RestructuringCharges\": \"Contingency\",\n",
    "    \"RevenueFromContractWithCustomerExcludingAssessedTax\": \"Revenue\",\n",
    "    \"RevenueFromContractWithCustomerIncludingAssessedTax\": \"Revenue\",\n",
    "    \"RevenueFromRelatedParties\": \"Revenue\",\n",
    "    \"RevenueRemainingPerformanceObligation\": \"Revenue\",\n",
    "    \"Revenues\": \"Revenue\",\n",
    "    \"SaleOfStockNumberOfSharesIssuedInTransaction\": \"Equity\",\n",
    "    \"SaleOfStockPricePerShare\": \"Equity\",\n",
    "    \"ShareBasedCompensation\": \"Compensation\",\n",
    "    \"ShareBasedCompensationArrangementByShareBasedPaymentAwardAwardVestingPeriod1\": \"Compensation\",\n",
    "    \"SharebasedCompensationArrangementBySharebasedPaymentAwardAwardVestingRightsPercentage\": \"Compensation\",\n",
    "    \"SharebasedCompensationArrangementBySharebasedPaymentAwardExpirationPeriod\": \"Compensation\",\n",
    "    \"ShareBasedCompensationArrangementByShareBasedPaymentAwardEquityInstrumentsOtherThanOptionsGrantsInPeriod\": \"Compensation\",\n",
    "    \"ShareBasedCompensationArrangementByShareBasedPaymentAwardEquityInstrumentsOtherThanOptionsGrantsInPeriodWeightedAverageGrantDateFairValue\": \"Compensation\",\n",
    "    \"ShareBasedCompensationArrangementByShareBasedPaymentAwardEquityInstrumentsOtherThanOptionsNonvestedNumber\": \"Compensation\",\n",
    "    \"ShareBasedCompensationArrangementByShareBasedPaymentAwardEquityInstrumentsOtherThanOptionsVestedInPeriodTotalFairValue\": \"Compensation\",\n",
    "    \"ShareBasedCompensationArrangementByShareBasedPaymentAwardNumberOfSharesAuthorized\": \"Compensation\",\n",
    "    \"ShareBasedCompensationArrangementByShareBasedPaymentAwardNumberOfSharesAvailableForGrant\": \"Compensation\",\n",
    "    \"ShareBasedCompensationArrangementByShareBasedPaymentAwardOptionsExercisesInPeriodTotalIntrinsicValue\": \"Compensation\",\n",
    "    \"ShareBasedCompensationArrangementByShareBasedPaymentAwardOptionsGrantsInPeriodGross\": \"Compensation\",\n",
    "    \"ShareBasedCompensationArrangementByShareBasedPaymentAwardOptionsGrantsInPeriodWeightedAverageGrantDateFairValue\": \"Compensation\",\n",
    "    \"SharePrice\": \"Equity\",\n",
    "    \"StockIssuedDuringPeriodSharesNewIssues\": \"Equity\",\n",
    "    \"StockRepurchaseProgramAuthorizedAmount1\": \"Equity\",\n",
    "    \"StockRepurchaseProgramRemainingAuthorizedRepurchaseAmount1\": \"Equity\",\n",
    "    \"StockRepurchasedAndRetiredDuringPeriodShares\": \"Equity\",\n",
    "    \"StockRepurchasedDuringPeriodShares\": \"Equity\",\n",
    "    \"SupplementalInformationForPropertyCasualtyInsuranceUnderwritersPriorYearClaimsAndClaimsAdjustmentExpense\": \"Assets\",\n",
    "    \"TreasuryStockAcquiredAverageCostPerShare\": \"Equity\",\n",
    "    \"TreasuryStockSharesAcquired\": \"Equity\",\n",
    "    \"TreasuryStockValueAcquiredCostMethod\": \"Equity\",\n",
    "    \"UnrecognizedTaxBenefits\": \"Tax\",\n",
    "    \"UnrecognizedTaxBenefitsThatWouldImpactEffectiveTaxRate\": \"Tax\",\n",
    "}\n"
   ]
  },
  {
   "cell_type": "markdown",
   "id": "435ca142-a9d4-430d-ade5-73aa8b57bd39",
   "metadata": {},
   "source": [
    "<hr style=\"height:3px; width:100%; background-color:black; border:none; margin:auto;\" />"
   ]
  },
  {
   "cell_type": "markdown",
   "id": "7821bd8f-286c-45e1-a1f7-faa062974f24",
   "metadata": {},
   "source": [
    "## 5. Function for Re-Mapping and applying on the Dataset Dict"
   ]
  },
  {
   "cell_type": "code",
   "execution_count": 6,
   "id": "61fa6696-f54c-4908-bb21-b9a03ef4467b",
   "metadata": {},
   "outputs": [],
   "source": [
    "# Function for Re-Mapping\n",
    "def remap_ner_tags(example):\n",
    "    def remap_label(label):\n",
    "        if label == \"O\":\n",
    "            return \"O\"\n",
    "        # Trenne Prefix (B-/I-) und Kategorie\n",
    "        prefix, _, tag = label.partition(\"-\")\n",
    "        new_tag = mapping.get(tag, tag)  # falls nicht im Mapping, original behalten\n",
    "        return f\"{prefix}-{new_tag}\"\n",
    "    \n",
    "    example[\"ner_tags_str_mapped\"] = [remap_label(label) for label in example[\"ner_tags_str\"]]\n",
    "    return example\n",
    "\n",
    "# Apply on all splits\n",
    "dataset_dict_remapped = {\n",
    "    split: ds.map(remap_ner_tags)\n",
    "    for split, ds in dataset_dict_named.items()\n",
    "}"
   ]
  },
  {
   "cell_type": "code",
   "execution_count": 7,
   "id": "0c445a70-014a-4d13-8ea6-70240c2e93b2",
   "metadata": {},
   "outputs": [
    {
     "name": "stdout",
     "output_type": "stream",
     "text": [
      "{'id': 1012885, 'tokens': ['The', 'effective', 'tax', 'rate', 'was', '47.6', 'percent', 'and', '13.4', 'percent', 'for', 'the', 'three', 'months', 'ended', 'March', '31', ',', '2020', 'and', '2019', ',', 'respectively', '.'], 'ner_tags': [0, 0, 0, 0, 0, 57, 0, 0, 57, 0, 0, 0, 0, 0, 0, 0, 0, 0, 0, 0, 0, 0, 0, 0], 'ner_tags_str': ['O', 'O', 'O', 'O', 'O', 'B-EffectiveIncomeTaxRateContinuingOperations', 'O', 'O', 'B-EffectiveIncomeTaxRateContinuingOperations', 'O', 'O', 'O', 'O', 'O', 'O', 'O', 'O', 'O', 'O', 'O', 'O', 'O', 'O', 'O'], 'ner_tags_str_mapped': ['O', 'O', 'O', 'O', 'O', 'B-Tax', 'O', 'O', 'B-Tax', 'O', 'O', 'O', 'O', 'O', 'O', 'O', 'O', 'O', 'O', 'O', 'O', 'O', 'O', 'O']}\n"
     ]
    }
   ],
   "source": [
    "# Example: Displaying a sample with label names\n",
    "print(dataset_dict_remapped[\"test\"][7])"
   ]
  },
  {
   "cell_type": "code",
   "execution_count": 8,
   "id": "003d18e0-6704-452a-88d4-c49f5b797b71",
   "metadata": {},
   "outputs": [],
   "source": [
    "# Function for removing the 'ner_tags' field\n",
    "def remove_ner_tags(example):\n",
    "    example.pop(\"ner_tags\", None)\n",
    "    example.pop(\"ner_tags_str\", None)\n",
    "    return example\n",
    "\n",
    "# Apply on all splits\n",
    "final_dataset = {\n",
    "    split: ds.map(remove_ner_tags)\n",
    "    for split, ds in dataset_dict_remapped.items()\n",
    "}\n"
   ]
  },
  {
   "cell_type": "code",
   "execution_count": 9,
   "id": "537105d3-3f8f-4d76-9e30-ccd55082e79a",
   "metadata": {},
   "outputs": [
    {
     "name": "stdout",
     "output_type": "stream",
     "text": [
      "{'id': 1012885, 'tokens': ['The', 'effective', 'tax', 'rate', 'was', '47.6', 'percent', 'and', '13.4', 'percent', 'for', 'the', 'three', 'months', 'ended', 'March', '31', ',', '2020', 'and', '2019', ',', 'respectively', '.'], 'ner_tags_str_mapped': ['O', 'O', 'O', 'O', 'O', 'B-Tax', 'O', 'O', 'B-Tax', 'O', 'O', 'O', 'O', 'O', 'O', 'O', 'O', 'O', 'O', 'O', 'O', 'O', 'O', 'O']}\n"
     ]
    }
   ],
   "source": [
    "# Example: Displaying a sample with label names\n",
    "print(final_dataset[\"test\"][7])"
   ]
  },
  {
   "cell_type": "code",
   "execution_count": 10,
   "id": "dbdf8325-a91e-4306-a623-8553b68b27a1",
   "metadata": {},
   "outputs": [
    {
     "data": {
      "text/html": [
       "<div>\n",
       "<style scoped>\n",
       "    .dataframe tbody tr th:only-of-type {\n",
       "        vertical-align: middle;\n",
       "    }\n",
       "\n",
       "    .dataframe tbody tr th {\n",
       "        vertical-align: top;\n",
       "    }\n",
       "\n",
       "    .dataframe thead th {\n",
       "        text-align: right;\n",
       "    }\n",
       "</style>\n",
       "<table border=\"1\" class=\"dataframe\">\n",
       "  <thead>\n",
       "    <tr style=\"text-align: right;\">\n",
       "      <th></th>\n",
       "      <th>token</th>\n",
       "      <th>ner_tag</th>\n",
       "    </tr>\n",
       "  </thead>\n",
       "  <tbody>\n",
       "    <tr>\n",
       "      <th>0</th>\n",
       "      <td>The</td>\n",
       "      <td>O</td>\n",
       "    </tr>\n",
       "    <tr>\n",
       "      <th>1</th>\n",
       "      <td>effective</td>\n",
       "      <td>O</td>\n",
       "    </tr>\n",
       "    <tr>\n",
       "      <th>2</th>\n",
       "      <td>tax</td>\n",
       "      <td>O</td>\n",
       "    </tr>\n",
       "    <tr>\n",
       "      <th>3</th>\n",
       "      <td>rate</td>\n",
       "      <td>O</td>\n",
       "    </tr>\n",
       "    <tr>\n",
       "      <th>4</th>\n",
       "      <td>was</td>\n",
       "      <td>O</td>\n",
       "    </tr>\n",
       "    <tr>\n",
       "      <th>5</th>\n",
       "      <td>47.6</td>\n",
       "      <td>B-Tax</td>\n",
       "    </tr>\n",
       "    <tr>\n",
       "      <th>6</th>\n",
       "      <td>percent</td>\n",
       "      <td>O</td>\n",
       "    </tr>\n",
       "    <tr>\n",
       "      <th>7</th>\n",
       "      <td>and</td>\n",
       "      <td>O</td>\n",
       "    </tr>\n",
       "    <tr>\n",
       "      <th>8</th>\n",
       "      <td>13.4</td>\n",
       "      <td>B-Tax</td>\n",
       "    </tr>\n",
       "    <tr>\n",
       "      <th>9</th>\n",
       "      <td>percent</td>\n",
       "      <td>O</td>\n",
       "    </tr>\n",
       "    <tr>\n",
       "      <th>10</th>\n",
       "      <td>for</td>\n",
       "      <td>O</td>\n",
       "    </tr>\n",
       "    <tr>\n",
       "      <th>11</th>\n",
       "      <td>the</td>\n",
       "      <td>O</td>\n",
       "    </tr>\n",
       "    <tr>\n",
       "      <th>12</th>\n",
       "      <td>three</td>\n",
       "      <td>O</td>\n",
       "    </tr>\n",
       "    <tr>\n",
       "      <th>13</th>\n",
       "      <td>months</td>\n",
       "      <td>O</td>\n",
       "    </tr>\n",
       "    <tr>\n",
       "      <th>14</th>\n",
       "      <td>ended</td>\n",
       "      <td>O</td>\n",
       "    </tr>\n",
       "    <tr>\n",
       "      <th>15</th>\n",
       "      <td>March</td>\n",
       "      <td>O</td>\n",
       "    </tr>\n",
       "    <tr>\n",
       "      <th>16</th>\n",
       "      <td>31</td>\n",
       "      <td>O</td>\n",
       "    </tr>\n",
       "    <tr>\n",
       "      <th>17</th>\n",
       "      <td>,</td>\n",
       "      <td>O</td>\n",
       "    </tr>\n",
       "    <tr>\n",
       "      <th>18</th>\n",
       "      <td>2020</td>\n",
       "      <td>O</td>\n",
       "    </tr>\n",
       "    <tr>\n",
       "      <th>19</th>\n",
       "      <td>and</td>\n",
       "      <td>O</td>\n",
       "    </tr>\n",
       "    <tr>\n",
       "      <th>20</th>\n",
       "      <td>2019</td>\n",
       "      <td>O</td>\n",
       "    </tr>\n",
       "    <tr>\n",
       "      <th>21</th>\n",
       "      <td>,</td>\n",
       "      <td>O</td>\n",
       "    </tr>\n",
       "    <tr>\n",
       "      <th>22</th>\n",
       "      <td>respectively</td>\n",
       "      <td>O</td>\n",
       "    </tr>\n",
       "    <tr>\n",
       "      <th>23</th>\n",
       "      <td>.</td>\n",
       "      <td>O</td>\n",
       "    </tr>\n",
       "  </tbody>\n",
       "</table>\n",
       "</div>"
      ],
      "text/plain": [
       "           token ner_tag\n",
       "0            The       O\n",
       "1      effective       O\n",
       "2            tax       O\n",
       "3           rate       O\n",
       "4            was       O\n",
       "5           47.6   B-Tax\n",
       "6        percent       O\n",
       "7            and       O\n",
       "8           13.4   B-Tax\n",
       "9        percent       O\n",
       "10           for       O\n",
       "11           the       O\n",
       "12         three       O\n",
       "13        months       O\n",
       "14         ended       O\n",
       "15         March       O\n",
       "16            31       O\n",
       "17             ,       O\n",
       "18          2020       O\n",
       "19           and       O\n",
       "20          2019       O\n",
       "21             ,       O\n",
       "22  respectively       O\n",
       "23             .       O"
      ]
     },
     "execution_count": 10,
     "metadata": {},
     "output_type": "execute_result"
    }
   ],
   "source": [
    "# In ein DataFrame umwandeln\n",
    "df = pd.DataFrame({\n",
    "    'token': final_dataset[\"test\"][7]['tokens'],\n",
    "    'ner_tag': final_dataset[\"test\"][7]['ner_tags_str_mapped']\n",
    "})\n",
    "\n",
    "df"
   ]
  },
  {
   "cell_type": "markdown",
   "id": "384f4409-5357-4f5d-a9ae-9be6085ed679",
   "metadata": {},
   "source": [
    "<hr style=\"height:3px; width:100%; background-color:black; border:none; margin:auto;\" />"
   ]
  },
  {
   "cell_type": "markdown",
   "id": "a0d43228-c48a-48c0-929a-ff6367d6e961",
   "metadata": {},
   "source": [
    "## 6. Count occurences across al differents tags"
   ]
  },
  {
   "cell_type": "code",
   "execution_count": 11,
   "id": "a001baf2-875c-48cd-b21a-f6fbcfcdfcdd",
   "metadata": {},
   "outputs": [
    {
     "name": "stdout",
     "output_type": "stream",
     "text": [
      "label\n",
      "O                 40508701\n",
      "B-Debt               95162\n",
      "B-Compensation       45433\n",
      "B-Equity             32038\n",
      "B-Assets             27150\n",
      "B-Acquisition        20658\n",
      "B-Lease              19048\n",
      "B-Contingency        18647\n",
      "B-Tax                17961\n",
      "B-Revenue            17585\n",
      "B-Other              14312\n",
      "I-Debt                4841\n",
      "I-Compensation        3215\n",
      "I-Lease               1418\n",
      "I-Assets              1240\n",
      "I-Equity                76\n",
      "I-Contingency            7\n",
      "I-Acquisition            4\n",
      "I-Other                  3\n",
      "Name: count, dtype: int64\n"
     ]
    }
   ],
   "source": [
    "import pandas as pd\n",
    "\n",
    "# List of all labels of train-Split\n",
    "all_labels = [label for sequence in final_dataset[\"train\"][\"ner_tags_str_mapped\"] for label in sequence]\n",
    "\n",
    "# Convert to DataFrame\n",
    "label_df = pd.DataFrame({\"label\": all_labels})\n",
    "\n",
    "# Count the number for tokens for every labels\n",
    "label_counts = label_df[\"label\"].value_counts()\n",
    "print(label_counts)"
   ]
  },
  {
   "cell_type": "code",
   "execution_count": 12,
   "id": "362c5de2-1588-42a7-8191-641aeb1a9e37",
   "metadata": {},
   "outputs": [
    {
     "data": {
      "text/plain": [
       "19"
      ]
     },
     "execution_count": 12,
     "metadata": {},
     "output_type": "execute_result"
    }
   ],
   "source": [
    "#label_names = final_dataset[\"train\"].features[\"ner_tags_str_mapped\"].unique()\n",
    "label_names = set(label for row in final_dataset[\"train\"][\"ner_tags_str_mapped\"] for label in row)\n",
    "len(label_names)"
   ]
  },
  {
   "cell_type": "code",
   "execution_count": 13,
   "id": "90c78d8e-40a0-48b8-a9bb-8a8c90ae75c0",
   "metadata": {},
   "outputs": [
    {
     "data": {
      "text/plain": [
       "{'train': Dataset({\n",
       "     features: ['id', 'tokens', 'ner_tags_str_mapped'],\n",
       "     num_rows: 900384\n",
       " }),\n",
       " 'validation': Dataset({\n",
       "     features: ['id', 'tokens', 'ner_tags_str_mapped'],\n",
       "     num_rows: 112494\n",
       " }),\n",
       " 'test': Dataset({\n",
       "     features: ['id', 'tokens', 'ner_tags_str_mapped'],\n",
       "     num_rows: 108378\n",
       " })}"
      ]
     },
     "execution_count": 13,
     "metadata": {},
     "output_type": "execute_result"
    }
   ],
   "source": [
    "final_dataset"
   ]
  },
  {
   "cell_type": "markdown",
   "id": "5a07d8c4-aad6-4ec1-a171-40e590220f5d",
   "metadata": {},
   "source": [
    "<hr style=\"height:3px; width:100%; background-color:black; border:none; margin:auto;\" />"
   ]
  },
  {
   "cell_type": "markdown",
   "id": "e651d5e0-c496-4461-8bea-e61dd0845d3d",
   "metadata": {},
   "source": [
    "## 7. Save new Dataset Dict as JSONL"
   ]
  },
  {
   "cell_type": "code",
   "execution_count": 14,
   "id": "e845cc3e-c58d-4bb4-b1a2-d15bc006a9da",
   "metadata": {},
   "outputs": [
    {
     "data": {
      "application/vnd.jupyter.widget-view+json": {
       "model_id": "c6d02dbcc65f4acca53ae5d689da5849",
       "version_major": 2,
       "version_minor": 0
      },
      "text/plain": [
       "Creating json from Arrow format:   0%|          | 0/901 [00:00<?, ?ba/s]"
      ]
     },
     "metadata": {},
     "output_type": "display_data"
    },
    {
     "name": "stdout",
     "output_type": "stream",
     "text": [
      "train saved as: data/finer-train.jsonl\n"
     ]
    },
    {
     "data": {
      "application/vnd.jupyter.widget-view+json": {
       "model_id": "577010e4df9b4a46a515d2f738b0265e",
       "version_major": 2,
       "version_minor": 0
      },
      "text/plain": [
       "Creating json from Arrow format:   0%|          | 0/113 [00:00<?, ?ba/s]"
      ]
     },
     "metadata": {},
     "output_type": "display_data"
    },
    {
     "name": "stdout",
     "output_type": "stream",
     "text": [
      "validation saved as: data/finer-validation.jsonl\n"
     ]
    },
    {
     "data": {
      "application/vnd.jupyter.widget-view+json": {
       "model_id": "8f7525a77eaa4263ba89cf9899251f64",
       "version_major": 2,
       "version_minor": 0
      },
      "text/plain": [
       "Creating json from Arrow format:   0%|          | 0/109 [00:00<?, ?ba/s]"
      ]
     },
     "metadata": {},
     "output_type": "display_data"
    },
    {
     "name": "stdout",
     "output_type": "stream",
     "text": [
      "test saved as: data/finer-test.jsonl\n"
     ]
    }
   ],
   "source": [
    "# Save all splits as .jsonl\n",
    "for split, ds in final_dataset.items():\n",
    "    filename = f\"data/finer-{split}.jsonl\"\n",
    "    ds.to_json(filename, orient=\"records\", lines=True)\n",
    "    print(f\"{split} saved as: {filename}\")\n"
   ]
  }
 ],
 "metadata": {
  "kernelspec": {
   "display_name": "Python (PyTorch)",
   "language": "python",
   "name": "pytorch_env"
  },
  "language_info": {
   "codemirror_mode": {
    "name": "ipython",
    "version": 3
   },
   "file_extension": ".py",
   "mimetype": "text/x-python",
   "name": "python",
   "nbconvert_exporter": "python",
   "pygments_lexer": "ipython3",
   "version": "3.10.16"
  }
 },
 "nbformat": 4,
 "nbformat_minor": 5
}
